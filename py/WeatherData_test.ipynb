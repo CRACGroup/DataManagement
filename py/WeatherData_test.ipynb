{
 "cells": [
  {
   "cell_type": "code",
   "execution_count": 1,
   "id": "b0a60402",
   "metadata": {},
   "outputs": [],
   "source": [
    "import shutil\n",
    "import csv\n",
    "import datetime as dt"
   ]
  },
  {
   "cell_type": "code",
   "execution_count": 6,
   "id": "a3ee45a7",
   "metadata": {},
   "outputs": [],
   "source": [
    "### The list of the data files, the header file, and the list of output files\n",
    "\n",
    "loggerdatafile = [r'C:\\Campbellsci\\LoggerNet\\CR1000_Table1.dat',\n",
    "                  r'C:\\Campbellsci\\LoggerNet\\CR1000_Table2.dat',\n",
    "                  r'C:\\Campbellsci\\LoggerNet\\CR1000_Table3_tmp.dat']\n",
    "headerfile = r'weatherheader.txt'\n",
    "dataname = [r'\\UCCWeatherMast_Hourly.dat',r'\\UCCWeatherMast_Daily.dat',r'\\UCCWeatherMast_']\n",
    "localpath = r'.\\Data'\n",
    "drivepath = r'G:\\My Drive\\Data'\n",
    "\n",
    "### Data collection and copy\n",
    "### This algorithm simply merges the hearder and headerless data\n",
    "### Grabs header, grabs data lines from data (removes header) into temp file, merges text and writes new file\n",
    "### Copy files with shutil inside of loop\n",
    "\n",
    "for ii,ele in enumerate(loggerdatafile):\n",
    "    with open(headerfile, \"r\") as f1:\n",
    "        headertxt = f1.read()\n",
    "\n",
    "    with open(loggerdatafile[ii], \"r\") as f1:\n",
    "        data = f1.readlines()[4:]\n",
    "        parseddata = []\n",
    "        for line in data:\n",
    "            line = line.strip('\\n') ### take out newline character\n",
    "            line = line.split(',') ### split the columns\n",
    "            line[0] = line[0].strip('\\\"') ### take out the quotes out of the date\n",
    "            parseddata.append(line)\n",
    "\n",
    "    with open('tempdata.csv', 'w', newline='') as file:\n",
    "        writer = csv.writer(file)\n",
    "        writer.writerows(parseddata)\n",
    "    \n",
    "    with open('tempdata.csv', \"r\") as f1:\n",
    "        data = f1.read()\n",
    "    \n",
    "    #### The last table is the minute data, since this is sent daily to MET Eireann\n",
    "    #### We create individual daily files that are timestamped, then we have to change\n",
    "    #### the name \n",
    "    \n",
    "    if ii==2:\n",
    "        daytime = dt.datetime.strptime(parseddata[1][0],'%Y-%m-%d %H:%M:%S')\n",
    "        day = daytime.strftime('%Y%m%d')\n",
    "        dataname[ii] = dataname[ii] +day+ r'.dat'\n",
    "    #### \n",
    "    \n",
    "    text = headertxt+'\\n'+data\n",
    "\n",
    "    with open (localpath+dataname[ii], 'w') as fp:\n",
    "        fp.write(text)\n",
    "    \n",
    "    # copy files\n",
    "    shutil.copyfile(localpath+dataname[ii], drivepath+dataname[ii])\n",
    "### End of data collection and copy"
   ]
  },
  {
   "cell_type": "code",
   "execution_count": 5,
   "id": "776c10da",
   "metadata": {},
   "outputs": [
    {
     "name": "stdout",
     "output_type": "stream",
     "text": [
      "2022-11-25 01:01:00\n"
     ]
    }
   ],
   "source": [
    "print(parseddata[1][0])"
   ]
  },
  {
   "cell_type": "code",
   "execution_count": 61,
   "id": "b0258e9f",
   "metadata": {},
   "outputs": [
    {
     "data": {
      "text/plain": [
       "'2022-11-25 11:13:00'"
      ]
     },
     "execution_count": 61,
     "metadata": {},
     "output_type": "execute_result"
    }
   ],
   "source": [
    "line[0]"
   ]
  },
  {
   "cell_type": "code",
   "execution_count": 56,
   "id": "f4807b84",
   "metadata": {},
   "outputs": [],
   "source": [
    "#### For manual use\n",
    "with open(r'weatherheader.txt', \"r\") as f1:\n",
    "    headertxt = f1.read()\n",
    "\n",
    "with open(r'C:\\Campbellsci\\LoggerNet\\7404_202211242359.ucc', \"r\") as f1:\n",
    "    data = f1.readlines()[4:]\n",
    "    parseddata = []\n",
    "    for line in data:\n",
    "        line = line.strip('\\n') ### take out newline character\n",
    "        line = line.split(',') ### split the columns\n",
    "        line[0] = line[0].strip('\\\"') ### take out the quotes out of the date\n",
    "        parseddata.append(line)\n",
    "\n",
    "with open('tempdata.csv', 'w', newline='') as file:\n",
    "    writer = csv.writer(file)\n",
    "    writer.writerows(parseddata)\n",
    "    \n",
    "with open('tempdata.csv', \"r\") as f1:\n",
    "    data = f1.read()\n",
    "    \n",
    "text = headertxt+'\\n'+data\n",
    "\n",
    "with open (r'.\\Data\\UCCWeatherMast_20221124_2.dat', 'w') as fp:\n",
    "    fp.write(text)"
   ]
  },
  {
   "cell_type": "code",
   "execution_count": null,
   "id": "56df5eeb",
   "metadata": {},
   "outputs": [],
   "source": []
  }
 ],
 "metadata": {
  "kernelspec": {
   "display_name": "Python 3 (ipykernel)",
   "language": "python",
   "name": "python3"
  },
  "language_info": {
   "codemirror_mode": {
    "name": "ipython",
    "version": 3
   },
   "file_extension": ".py",
   "mimetype": "text/x-python",
   "name": "python",
   "nbconvert_exporter": "python",
   "pygments_lexer": "ipython3",
   "version": "3.9.13"
  }
 },
 "nbformat": 4,
 "nbformat_minor": 5
}
