{
 "cells": [
  {
   "cell_type": "code",
   "execution_count": null,
   "id": "6612cdfe",
   "metadata": {},
   "outputs": [],
   "source": [
    "### This is a notebook for HDF5 writing tests"
   ]
  },
  {
   "cell_type": "code",
   "execution_count": 1,
   "id": "31e09e65",
   "metadata": {},
   "outputs": [],
   "source": [
    "import h5py\n",
    "import numpy as np\n",
    "import os\n",
    "import glob\n",
    "import pandas as pd"
   ]
  },
  {
   "cell_type": "code",
   "execution_count": 2,
   "id": "671f03cd-95a3-49c5-81b6-009cb5f48968",
   "metadata": {},
   "outputs": [],
   "source": [
    "h5name = 'cavities_test.hdf5' ### name of the hdf5 file\n",
    "ces_list = ['CEAS360','CEAS450','CEAS660','CRDS405']\n",
    "ces_dir = ['D:\\\\gitAll\\\\HUB\\\\DataManagement\\\\Jupyter\\\\testdata\\\\HONO\\\\',\n",
    "           'D:\\\\gitAll\\\\HUB\\\\DataManagement\\\\Jupyter\\\\testdata\\\\GLY\\\\',\n",
    "           'D:\\\\gitAll\\\\HUB\\\\DataManagement\\\\Jupyter\\\\testdata\\\\NO3\\\\',\n",
    "           'D:\\\\gitAll\\\\HUB\\\\DataManagement\\\\Jupyter\\\\testdata\\\\NO2\\\\']\n",
    "column_desc = [['time','no2','hono'],\n",
    "               ['time','no2','chocho'],\n",
    "               ['time','no3','no2','h2o'],\n",
    "               ['time','no2','tau','pres','temp','f_s','f_p','flag']]\n",
    "column_units = [['YYYY/MM/DD-HH:MM:SS','ppbv','ppbv'],\n",
    "                ['YYYY/MM/DD-HH:MM:SS','ppbv','ppbv'],\n",
    "                ['YYYY/MM/DD-HH:MM:SS','ppbv','ppbv','ppbv'],\n",
    "                ['YYYY/MM/DD-HH:MM:SS','ppbv','microsecs','psi','degC','lpm','lpm','NA']]\n"
   ]
  },
  {
   "cell_type": "code",
   "execution_count": 21,
   "id": "adf364a3-c961-44fe-8a5c-6937496faf97",
   "metadata": {},
   "outputs": [
    {
     "name": "stderr",
     "output_type": "stream",
     "text": [
      "C:\\Users\\mixtl\\AppData\\Local\\Programs\\Python\\Python312\\Lib\\site-packages\\pandas\\core\\dtypes\\cast.py:1057: RuntimeWarning: invalid value encountered in cast\n",
      "  if (arr.astype(int) == arr).all():\n",
      "C:\\Users\\mixtl\\AppData\\Local\\Programs\\Python\\Python312\\Lib\\site-packages\\pandas\\core\\dtypes\\cast.py:1081: RuntimeWarning: invalid value encountered in cast\n",
      "  if (arr.astype(int) == arr).all():\n"
     ]
    }
   ],
   "source": [
    "f = h5py.File(h5name, 'a')\n",
    "for ii,ele in enumerate(ces_list):\n",
    "    grp = f.create_group(ele)\n",
    "    dset_dir = glob.glob(ces_dir[ii]+'*')[-1]\n",
    "    dset_file = glob.glob(dset_dir+'\\\\M*.txt')[-2]\n",
    "    dset = pd.read_csv(dset_file,sep=' ',header=None,names=column_desc[ii])\n",
    "    dset = dset.convert_dtypes()\n",
    "    for col in column_desc[ii]:\n",
    "        try:\n",
    "            dataset = grp.create_dataset(col, data=dset[col])\n",
    "        except:\n",
    "            dataset = grp.create_dataset(col, data=np.asarray(dset[col],dtype='S19'))\n",
    "    if ele != 'CRDS405':\n",
    "        dset_file = glob.glob(dset_dir+'\\\\Ib*.txt')[-1]\n",
    "        zeros = np.loadtxt(dset_file)\n",
    "        dataset = grp.create_dataset(\"wavelengths\", data=zeros[:,0])\n",
    "        dataset = grp.create_dataset(\"zeros\", data=zeros[:,1:])\n",
    "        \n",
    "        dset_file = glob.glob(dset_dir+'\\\\Imeas*.npy')[-1]\n",
    "        meas = np.load(dset_file)\n",
    "        dataset = grp.create_dataset(\"measurements\", data=meas[:,1:])\n",
    "f.close()"
   ]
  },
  {
   "cell_type": "code",
   "execution_count": 20,
   "id": "8d87cfa6-2d64-4622-823d-b004c43d4c86",
   "metadata": {},
   "outputs": [],
   "source": [
    "f.close()"
   ]
  },
  {
   "cell_type": "code",
   "execution_count": null,
   "id": "b33032c3-2d3b-4dd3-8cc0-1cc603331b6a",
   "metadata": {},
   "outputs": [],
   "source": []
  },
  {
   "cell_type": "code",
   "execution_count": null,
   "id": "3573ccaf-d4e1-4307-919c-09095dca818b",
   "metadata": {},
   "outputs": [],
   "source": [
    "os.walk(ces_dir[1])"
   ]
  },
  {
   "cell_type": "code",
   "execution_count": null,
   "id": "22676e53-57d9-417c-aec8-5a23d5755474",
   "metadata": {},
   "outputs": [],
   "source": [
    "dset_dir = glob.glob(ces_dir[2]+'*')[-1]\n",
    "dset_file = glob.glob(dset_dir+'\\\\M*.txt')[-2]"
   ]
  },
  {
   "cell_type": "code",
   "execution_count": null,
   "id": "8783987f-1497-401c-9b6f-aa90714e6d83",
   "metadata": {},
   "outputs": [],
   "source": [
    "glob.glob(dset_dir+'\\\\M*.txt')[-2]"
   ]
  },
  {
   "cell_type": "code",
   "execution_count": null,
   "id": "4f55aa56-dd85-4eab-b160-1fed2799ba8a",
   "metadata": {},
   "outputs": [],
   "source": [
    "print(dset_dir,dset_file)"
   ]
  },
  {
   "cell_type": "code",
   "execution_count": null,
   "id": "daac81a0-a360-4036-8132-7e48a57e2355",
   "metadata": {},
   "outputs": [],
   "source": [
    "dset = pd.read_csv(dset_file,sep=' ',header=None,names=column_desc[2])\n",
    "dset = dset.convert_dtypes()"
   ]
  },
  {
   "cell_type": "code",
   "execution_count": null,
   "id": "60d13e23-53b4-44d2-b720-8a3e1f3a05c3",
   "metadata": {},
   "outputs": [],
   "source": [
    "times = dset[\"time\"].astype('U')\n",
    "times.astype('U')"
   ]
  },
  {
   "cell_type": "code",
   "execution_count": 8,
   "id": "44f9b61f-536d-4ef0-8006-23d5cd0cf746",
   "metadata": {},
   "outputs": [
    {
     "data": {
      "text/plain": [
       "0       2024/03/08-12:50:19\n",
       "1       2024/03/08-12:50:34\n",
       "2       2024/03/08-12:50:48\n",
       "3       2024/03/08-12:51:03\n",
       "4       2024/03/08-12:51:18\n",
       "               ...         \n",
       "1431    2024/03/08-18:39:27\n",
       "1432    2024/03/08-18:39:42\n",
       "1433    2024/03/08-18:39:56\n",
       "1434    2024/03/08-18:40:11\n",
       "1435    2024/03/08-18:40:26\n",
       "Name: time, Length: 1436, dtype: string"
      ]
     },
     "execution_count": 8,
     "metadata": {},
     "output_type": "execute_result"
    }
   ],
   "source": [
    "dset[\"time\"]"
   ]
  },
  {
   "cell_type": "code",
   "execution_count": null,
   "id": "d6fdf6f2-5b8d-4fae-93fe-d8a37d65b777",
   "metadata": {},
   "outputs": [],
   "source": [
    "dset.h2o"
   ]
  },
  {
   "cell_type": "code",
   "execution_count": 7,
   "id": "09cc5447-3e83-457e-88de-4c20cd6a3ca9",
   "metadata": {},
   "outputs": [
    {
     "data": {
      "text/plain": [
       "time    string[python]\n",
       "no2            Float64\n",
       "hono           Float64\n",
       "dtype: object"
      ]
     },
     "execution_count": 7,
     "metadata": {},
     "output_type": "execute_result"
    }
   ],
   "source": [
    "dset.dtypes"
   ]
  },
  {
   "cell_type": "code",
   "execution_count": 9,
   "id": "229dfdcf-dedf-4714-8f92-5bd4fda46d1a",
   "metadata": {},
   "outputs": [
    {
     "data": {
      "text/plain": [
       "'time'"
      ]
     },
     "execution_count": 9,
     "metadata": {},
     "output_type": "execute_result"
    }
   ],
   "source": [
    "col"
   ]
  },
  {
   "cell_type": "code",
   "execution_count": 12,
   "id": "7776d421-1681-4a87-bfa1-1b94b7a814ed",
   "metadata": {},
   "outputs": [
    {
     "data": {
      "text/plain": [
       "array(['2024/03/08-12:50:19', '2024/03/08-12:50:34',\n",
       "       '2024/03/08-12:50:48', ..., '2024/03/08-18:39:56',\n",
       "       '2024/03/08-18:40:11', '2024/03/08-18:40:26'], dtype='<U19')"
      ]
     },
     "execution_count": 12,
     "metadata": {},
     "output_type": "execute_result"
    }
   ],
   "source": [
    "np.asarray(dset[col],dtype='str')"
   ]
  },
  {
   "cell_type": "code",
   "execution_count": null,
   "id": "f4d62728-6053-4916-a68b-598448c72603",
   "metadata": {},
   "outputs": [],
   "source": []
  }
 ],
 "metadata": {
  "kernelspec": {
   "display_name": "Python 3 (ipykernel)",
   "language": "python",
   "name": "python3"
  },
  "language_info": {
   "codemirror_mode": {
    "name": "ipython",
    "version": 3
   },
   "file_extension": ".py",
   "mimetype": "text/x-python",
   "name": "python",
   "nbconvert_exporter": "python",
   "pygments_lexer": "ipython3",
   "version": "3.12.1"
  }
 },
 "nbformat": 4,
 "nbformat_minor": 5
}
