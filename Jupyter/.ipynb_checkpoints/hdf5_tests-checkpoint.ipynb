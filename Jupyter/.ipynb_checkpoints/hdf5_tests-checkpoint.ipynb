{
 "cells": [
  {
   "cell_type": "code",
   "execution_count": null,
   "id": "6612cdfe",
   "metadata": {},
   "outputs": [],
   "source": [
    "### This is a notebook for HDF5 writing tests"
   ]
  },
  {
   "cell_type": "code",
   "execution_count": 1,
   "id": "31e09e65",
   "metadata": {},
   "outputs": [],
   "source": [
    "import h5py\n",
    "import numpy as np\n",
    "import os\n",
    "import glob\n",
    "import pandas as pd"
   ]
  },
  {
   "cell_type": "code",
   "execution_count": 27,
   "id": "671f03cd-95a3-49c5-81b6-009cb5f48968",
   "metadata": {},
   "outputs": [],
   "source": [
    "year,month,day=('2024','03','08')\n",
    "h5name = 'IASC_.hdf5' ### name of the hdf5 file\n",
    "groups = ['CES Instruments', 'Chamber']\n",
    "ces_list = ['CEAS360','CEAS450','CEAS660','CRDS405']\n",
    "ces_dir = ['D:\\\\gitAll\\\\HUB\\\\DataManagement\\\\Jupyter\\\\testdata\\\\HONO\\\\',\n",
    "           'D:\\\\gitAll\\\\HUB\\\\DataManagement\\\\Jupyter\\\\testdata\\\\GLY\\\\',\n",
    "           'D:\\\\gitAll\\\\HUB\\\\DataManagement\\\\Jupyter\\\\testdata\\\\NO3\\\\',\n",
    "           'D:\\\\gitAll\\\\HUB\\\\DataManagement\\\\Jupyter\\\\testdata\\\\NO2\\\\']\n",
    "ces_column_desc = [['time','no2','hono'],\n",
    "               ['time','no2','chocho'],\n",
    "               ['time','no3','no2','h2o'],\n",
    "               ['time','no2','tau','pres','temp','f_s','f_p','flag']]\n",
    "ces_column_units = [['YYYY/MM/DD-HH:MM:SS','ppbv','ppbv'],\n",
    "                ['YYYY/MM/DD-HH:MM:SS','ppbv','ppbv'],\n",
    "                ['YYYY/MM/DD-HH:MM:SS','ppbv','ppbv','ppbv'],\n",
    "                ['YYYY/MM/DD-HH:MM:SS','ppbv','microsecs','psi','degC','lpm','lpm','NA']]\n",
    "chamber_dir='D:\\\\gitAll\\\\HUB\\\\DataManagement\\\\Jupyter\\\\testdata\\\\'\n",
    "chamber_column_desc = ['date','time','temp','diffP','RelHumidity','pres','no','no2','nox','o3','co2']\n",
    "chamber_column_units = ['YYYY/MM/DD-HH:MM:SS','degC','Pa','percent','hPa','ppbv','ppbv','ppbv','ppbv','ppmv'] #one less column that \n"
   ]
  },
  {
   "cell_type": "code",
   "execution_count": 5,
   "id": "adf364a3-c961-44fe-8a5c-6937496faf97",
   "metadata": {},
   "outputs": [
    {
     "name": "stderr",
     "output_type": "stream",
     "text": [
      "C:\\Users\\mixtl\\AppData\\Local\\Programs\\Python\\Python312\\Lib\\site-packages\\pandas\\core\\dtypes\\cast.py:1057: RuntimeWarning: invalid value encountered in cast\n",
      "  if (arr.astype(int) == arr).all():\n",
      "C:\\Users\\mixtl\\AppData\\Local\\Programs\\Python\\Python312\\Lib\\site-packages\\pandas\\core\\dtypes\\cast.py:1081: RuntimeWarning: invalid value encountered in cast\n",
      "  if (arr.astype(int) == arr).all():\n"
     ]
    }
   ],
   "source": [
    "f = h5py.File(h5name, 'a')\n",
    "for ii,ele in enumerate(ces_list):\n",
    "    grp = f.create_group(groups[0]+'/'+ ele)\n",
    "    dset_dir = glob.glob(ces_dir[ii]+year+month+day)\n",
    "    dset_file = glob.glob(dset_dir+'\\\\M*.txt')[-2]\n",
    "    dset = pd.read_csv(dset_file,sep=' ',header=None,names=ces_column_desc[ii])\n",
    "    dset = dset.convert_dtypes()\n",
    "    for jj,col in enumerate(ces_column_desc[ii]):\n",
    "        try:\n",
    "            dataset = grp.create_dataset(col, data=dset[col])\n",
    "            dataset.attrs['units']=ces_column_units[ii][jj]\n",
    "        except:\n",
    "            dataset = grp.create_dataset(col, data=np.asarray(dset[col],dtype='S19'))\n",
    "            dataset.attrs['units']=ces_column_units[ii][jj]\n",
    "    if ele != 'CRDS405':\n",
    "        dset_file = glob.glob(dset_dir+'\\\\Ib*.txt')[-1]\n",
    "        zeros = np.loadtxt(dset_file)\n",
    "        dataset = grp.create_dataset(\"wavelengths\", data=zeros[:,0])\n",
    "        dataset.attrs['units']='nm'\n",
    "        dataset = grp.create_dataset(\"zeros\", data=zeros[:,1:])\n",
    "        dataset.attrs['units']='counts'\n",
    "        \n",
    "        dset_file = glob.glob(dset_dir+'\\\\Imeas*.npy')[-1]\n",
    "        meas = np.load(dset_file)\n",
    "        dataset = grp.create_dataset(\"measurements\", data=meas[:,1:])\n",
    "        dataset.attrs['units']='counts'\n",
    "f.close()"
   ]
  },
  {
   "cell_type": "code",
   "execution_count": 4,
   "id": "8d87cfa6-2d64-4622-823d-b004c43d4c86",
   "metadata": {},
   "outputs": [],
   "source": [
    "f.close()"
   ]
  },
  {
   "cell_type": "code",
   "execution_count": null,
   "id": "b33032c3-2d3b-4dd3-8cc0-1cc603331b6a",
   "metadata": {},
   "outputs": [],
   "source": []
  },
  {
   "cell_type": "code",
   "execution_count": null,
   "id": "3573ccaf-d4e1-4307-919c-09095dca818b",
   "metadata": {},
   "outputs": [],
   "source": [
    "os.walk(ces_dir[1])"
   ]
  },
  {
   "cell_type": "code",
   "execution_count": 24,
   "id": "22676e53-57d9-417c-aec8-5a23d5755474",
   "metadata": {},
   "outputs": [],
   "source": [
    "dset_dir = glob.glob(ces_dir[2]+year+month+day)[-1]\n",
    "dset_file = glob.glob(dset_dir+'\\\\M*.txt')[-2]"
   ]
  },
  {
   "cell_type": "code",
   "execution_count": 25,
   "id": "8783987f-1497-401c-9b6f-aa90714e6d83",
   "metadata": {},
   "outputs": [
    {
     "data": {
      "text/plain": [
       "'D:\\\\gitAll\\\\HUB\\\\DataManagement\\\\Jupyter\\\\testdata\\\\NO3\\\\20240308\\\\M2403081840.txt'"
      ]
     },
     "execution_count": 25,
     "metadata": {},
     "output_type": "execute_result"
    }
   ],
   "source": [
    "glob.glob(dset_dir+'\\\\M*.txt')[-2]"
   ]
  },
  {
   "cell_type": "code",
   "execution_count": 8,
   "id": "4f55aa56-dd85-4eab-b160-1fed2799ba8a",
   "metadata": {},
   "outputs": [
    {
     "name": "stdout",
     "output_type": "stream",
     "text": [
      "D:\\gitAll\\HUB\\DataManagement\\Jupyter\\testdata\\NO3\\20240308 D:\\gitAll\\HUB\\DataManagement\\Jupyter\\testdata\\NO3\\20240308\\M2403081840.txt\n"
     ]
    }
   ],
   "source": [
    "print(dset_dir,dset_file)"
   ]
  },
  {
   "cell_type": "code",
   "execution_count": 9,
   "id": "daac81a0-a360-4036-8132-7e48a57e2355",
   "metadata": {},
   "outputs": [
    {
     "name": "stderr",
     "output_type": "stream",
     "text": [
      "C:\\Users\\mixtl\\AppData\\Local\\Programs\\Python\\Python312\\Lib\\site-packages\\pandas\\core\\dtypes\\cast.py:1057: RuntimeWarning: invalid value encountered in cast\n",
      "  if (arr.astype(int) == arr).all():\n",
      "C:\\Users\\mixtl\\AppData\\Local\\Programs\\Python\\Python312\\Lib\\site-packages\\pandas\\core\\dtypes\\cast.py:1081: RuntimeWarning: invalid value encountered in cast\n",
      "  if (arr.astype(int) == arr).all():\n"
     ]
    }
   ],
   "source": [
    "dset = pd.read_csv(dset_file,sep=' ',header=None,names=column_desc[2])\n",
    "dset = dset.convert_dtypes()"
   ]
  },
  {
   "cell_type": "code",
   "execution_count": 10,
   "id": "60d13e23-53b4-44d2-b720-8a3e1f3a05c3",
   "metadata": {},
   "outputs": [
    {
     "data": {
      "text/plain": [
       "0       2024/03/08-12:51:01\n",
       "1       2024/03/08-12:51:18\n",
       "2       2024/03/08-12:51:36\n",
       "3       2024/03/08-12:51:53\n",
       "4       2024/03/08-12:52:11\n",
       "               ...         \n",
       "1186    2024/03/08-18:39:35\n",
       "1187    2024/03/08-18:39:53\n",
       "1188    2024/03/08-18:40:11\n",
       "1189    2024/03/08-18:40:28\n",
       "1190    2024/03/08-18:40:46\n",
       "Name: time, Length: 1191, dtype: object"
      ]
     },
     "execution_count": 10,
     "metadata": {},
     "output_type": "execute_result"
    }
   ],
   "source": [
    "times = dset[\"time\"].astype('U')\n",
    "times.astype('U')"
   ]
  },
  {
   "cell_type": "code",
   "execution_count": 11,
   "id": "44f9b61f-536d-4ef0-8006-23d5cd0cf746",
   "metadata": {},
   "outputs": [
    {
     "data": {
      "text/plain": [
       "0       2024/03/08-12:51:01\n",
       "1       2024/03/08-12:51:18\n",
       "2       2024/03/08-12:51:36\n",
       "3       2024/03/08-12:51:53\n",
       "4       2024/03/08-12:52:11\n",
       "               ...         \n",
       "1186    2024/03/08-18:39:35\n",
       "1187    2024/03/08-18:39:53\n",
       "1188    2024/03/08-18:40:11\n",
       "1189    2024/03/08-18:40:28\n",
       "1190    2024/03/08-18:40:46\n",
       "Name: time, Length: 1191, dtype: string"
      ]
     },
     "execution_count": 11,
     "metadata": {},
     "output_type": "execute_result"
    }
   ],
   "source": [
    "dset[\"time\"]"
   ]
  },
  {
   "cell_type": "code",
   "execution_count": 12,
   "id": "d6fdf6f2-5b8d-4fae-93fe-d8a37d65b777",
   "metadata": {},
   "outputs": [
    {
     "data": {
      "text/plain": [
       "0       2379808097.145396\n",
       "1            -4434.953456\n",
       "2            -1117.263841\n",
       "3             -5498.75019\n",
       "4            -2782.483749\n",
       "              ...        \n",
       "1186        922253.241981\n",
       "1187        917002.050024\n",
       "1188        907170.597801\n",
       "1189        896193.932299\n",
       "1190        883114.259391\n",
       "Name: h2o, Length: 1191, dtype: Float64"
      ]
     },
     "execution_count": 12,
     "metadata": {},
     "output_type": "execute_result"
    }
   ],
   "source": [
    "dset.h2o"
   ]
  },
  {
   "cell_type": "code",
   "execution_count": 13,
   "id": "09cc5447-3e83-457e-88de-4c20cd6a3ca9",
   "metadata": {},
   "outputs": [
    {
     "data": {
      "text/plain": [
       "time    string[python]\n",
       "no3            Float64\n",
       "no2            Float64\n",
       "h2o            Float64\n",
       "dtype: object"
      ]
     },
     "execution_count": 13,
     "metadata": {},
     "output_type": "execute_result"
    }
   ],
   "source": [
    "dset.dtypes"
   ]
  },
  {
   "cell_type": "code",
   "execution_count": 14,
   "id": "229dfdcf-dedf-4714-8f92-5bd4fda46d1a",
   "metadata": {},
   "outputs": [
    {
     "data": {
      "text/plain": [
       "'flag'"
      ]
     },
     "execution_count": 14,
     "metadata": {},
     "output_type": "execute_result"
    }
   ],
   "source": [
    "col"
   ]
  },
  {
   "cell_type": "code",
   "execution_count": 15,
   "id": "7776d421-1681-4a87-bfa1-1b94b7a814ed",
   "metadata": {},
   "outputs": [
    {
     "ename": "KeyError",
     "evalue": "'flag'",
     "output_type": "error",
     "traceback": [
      "\u001b[1;31m---------------------------------------------------------------------------\u001b[0m",
      "\u001b[1;31mKeyError\u001b[0m                                  Traceback (most recent call last)",
      "File \u001b[1;32m~\\AppData\\Local\\Programs\\Python\\Python312\\Lib\\site-packages\\pandas\\core\\indexes\\base.py:3802\u001b[0m, in \u001b[0;36mIndex.get_loc\u001b[1;34m(self, key)\u001b[0m\n\u001b[0;32m   3801\u001b[0m \u001b[38;5;28;01mtry\u001b[39;00m:\n\u001b[1;32m-> 3802\u001b[0m     \u001b[38;5;28;01mreturn\u001b[39;00m \u001b[38;5;28;43mself\u001b[39;49m\u001b[38;5;241;43m.\u001b[39;49m\u001b[43m_engine\u001b[49m\u001b[38;5;241;43m.\u001b[39;49m\u001b[43mget_loc\u001b[49m\u001b[43m(\u001b[49m\u001b[43mcasted_key\u001b[49m\u001b[43m)\u001b[49m\n\u001b[0;32m   3803\u001b[0m \u001b[38;5;28;01mexcept\u001b[39;00m \u001b[38;5;167;01mKeyError\u001b[39;00m \u001b[38;5;28;01mas\u001b[39;00m err:\n",
      "File \u001b[1;32mindex.pyx:153\u001b[0m, in \u001b[0;36mpandas._libs.index.IndexEngine.get_loc\u001b[1;34m()\u001b[0m\n",
      "File \u001b[1;32mindex.pyx:182\u001b[0m, in \u001b[0;36mpandas._libs.index.IndexEngine.get_loc\u001b[1;34m()\u001b[0m\n",
      "File \u001b[1;32mpandas\\\\_libs\\\\hashtable_class_helper.pxi:7081\u001b[0m, in \u001b[0;36mpandas._libs.hashtable.PyObjectHashTable.get_item\u001b[1;34m()\u001b[0m\n",
      "File \u001b[1;32mpandas\\\\_libs\\\\hashtable_class_helper.pxi:7089\u001b[0m, in \u001b[0;36mpandas._libs.hashtable.PyObjectHashTable.get_item\u001b[1;34m()\u001b[0m\n",
      "\u001b[1;31mKeyError\u001b[0m: 'flag'",
      "\nThe above exception was the direct cause of the following exception:\n",
      "\u001b[1;31mKeyError\u001b[0m                                  Traceback (most recent call last)",
      "Cell \u001b[1;32mIn[15], line 1\u001b[0m\n\u001b[1;32m----> 1\u001b[0m np\u001b[38;5;241m.\u001b[39masarray(\u001b[43mdset\u001b[49m\u001b[43m[\u001b[49m\u001b[43mcol\u001b[49m\u001b[43m]\u001b[49m,dtype\u001b[38;5;241m=\u001b[39m\u001b[38;5;124m'\u001b[39m\u001b[38;5;124mstr\u001b[39m\u001b[38;5;124m'\u001b[39m)\n",
      "File \u001b[1;32m~\\AppData\\Local\\Programs\\Python\\Python312\\Lib\\site-packages\\pandas\\core\\frame.py:4090\u001b[0m, in \u001b[0;36mDataFrame.__getitem__\u001b[1;34m(self, key)\u001b[0m\n\u001b[0;32m   4088\u001b[0m \u001b[38;5;28;01mif\u001b[39;00m \u001b[38;5;28mself\u001b[39m\u001b[38;5;241m.\u001b[39mcolumns\u001b[38;5;241m.\u001b[39mnlevels \u001b[38;5;241m>\u001b[39m \u001b[38;5;241m1\u001b[39m:\n\u001b[0;32m   4089\u001b[0m     \u001b[38;5;28;01mreturn\u001b[39;00m \u001b[38;5;28mself\u001b[39m\u001b[38;5;241m.\u001b[39m_getitem_multilevel(key)\n\u001b[1;32m-> 4090\u001b[0m indexer \u001b[38;5;241m=\u001b[39m \u001b[38;5;28;43mself\u001b[39;49m\u001b[38;5;241;43m.\u001b[39;49m\u001b[43mcolumns\u001b[49m\u001b[38;5;241;43m.\u001b[39;49m\u001b[43mget_loc\u001b[49m\u001b[43m(\u001b[49m\u001b[43mkey\u001b[49m\u001b[43m)\u001b[49m\n\u001b[0;32m   4091\u001b[0m \u001b[38;5;28;01mif\u001b[39;00m is_integer(indexer):\n\u001b[0;32m   4092\u001b[0m     indexer \u001b[38;5;241m=\u001b[39m [indexer]\n",
      "File \u001b[1;32m~\\AppData\\Local\\Programs\\Python\\Python312\\Lib\\site-packages\\pandas\\core\\indexes\\base.py:3809\u001b[0m, in \u001b[0;36mIndex.get_loc\u001b[1;34m(self, key)\u001b[0m\n\u001b[0;32m   3804\u001b[0m     \u001b[38;5;28;01mif\u001b[39;00m \u001b[38;5;28misinstance\u001b[39m(casted_key, \u001b[38;5;28mslice\u001b[39m) \u001b[38;5;129;01mor\u001b[39;00m (\n\u001b[0;32m   3805\u001b[0m         \u001b[38;5;28misinstance\u001b[39m(casted_key, abc\u001b[38;5;241m.\u001b[39mIterable)\n\u001b[0;32m   3806\u001b[0m         \u001b[38;5;129;01mand\u001b[39;00m \u001b[38;5;28many\u001b[39m(\u001b[38;5;28misinstance\u001b[39m(x, \u001b[38;5;28mslice\u001b[39m) \u001b[38;5;28;01mfor\u001b[39;00m x \u001b[38;5;129;01min\u001b[39;00m casted_key)\n\u001b[0;32m   3807\u001b[0m     ):\n\u001b[0;32m   3808\u001b[0m         \u001b[38;5;28;01mraise\u001b[39;00m InvalidIndexError(key)\n\u001b[1;32m-> 3809\u001b[0m     \u001b[38;5;28;01mraise\u001b[39;00m \u001b[38;5;167;01mKeyError\u001b[39;00m(key) \u001b[38;5;28;01mfrom\u001b[39;00m \u001b[38;5;21;01merr\u001b[39;00m\n\u001b[0;32m   3810\u001b[0m \u001b[38;5;28;01mexcept\u001b[39;00m \u001b[38;5;167;01mTypeError\u001b[39;00m:\n\u001b[0;32m   3811\u001b[0m     \u001b[38;5;66;03m# If we have a listlike key, _check_indexing_error will raise\u001b[39;00m\n\u001b[0;32m   3812\u001b[0m     \u001b[38;5;66;03m#  InvalidIndexError. Otherwise we fall through and re-raise\u001b[39;00m\n\u001b[0;32m   3813\u001b[0m     \u001b[38;5;66;03m#  the TypeError.\u001b[39;00m\n\u001b[0;32m   3814\u001b[0m     \u001b[38;5;28mself\u001b[39m\u001b[38;5;241m.\u001b[39m_check_indexing_error(key)\n",
      "\u001b[1;31mKeyError\u001b[0m: 'flag'"
     ]
    }
   ],
   "source": [
    "np.asarray(dset[col],dtype='str')"
   ]
  },
  {
   "cell_type": "code",
   "execution_count": 18,
   "id": "f4d62728-6053-4916-a68b-598448c72603",
   "metadata": {},
   "outputs": [
    {
     "data": {
      "text/plain": [
       "(1191,)"
      ]
     },
     "execution_count": 18,
     "metadata": {},
     "output_type": "execute_result"
    }
   ],
   "source": [
    "a=dset['time'].shape\n",
    "a"
   ]
  },
  {
   "cell_type": "code",
   "execution_count": 22,
   "id": "7156a6c3-e697-4142-831c-580558d55bf3",
   "metadata": {},
   "outputs": [],
   "source": [
    "year,month,day=('2024','03','08')"
   ]
  },
  {
   "cell_type": "code",
   "execution_count": 23,
   "id": "3e4e7888-1d34-422d-9523-5dc3ce377c35",
   "metadata": {},
   "outputs": [
    {
     "name": "stdout",
     "output_type": "stream",
     "text": [
      "2024 03 08\n"
     ]
    }
   ],
   "source": [
    "print(year,month,day)"
   ]
  },
  {
   "cell_type": "code",
   "execution_count": 28,
   "id": "6f5ae009-c72b-463c-8580-697f4d544c65",
   "metadata": {},
   "outputs": [
    {
     "data": {
      "text/plain": [
       "['D:\\\\gitAll\\\\HUB\\\\DataManagement\\\\Jupyter\\\\testdata\\\\CRAC (All Locations)-2024-03-08 23-45-04.tsv']"
      ]
     },
     "execution_count": 28,
     "metadata": {},
     "output_type": "execute_result"
    }
   ],
   "source": [
    "dset_file = glob.glob(chamber_dir+'*'+year+'-'+month+'-'+day+'*.tsv')"
   ]
  },
  {
   "cell_type": "code",
   "execution_count": null,
   "id": "906fb88a-f642-4aa6-9562-227d987a5323",
   "metadata": {},
   "outputs": [],
   "source": [
    "dset= pd.read_csv(dset_file,sep='\\t',header=None,skiprows=2)"
   ]
  }
 ],
 "metadata": {
  "kernelspec": {
   "display_name": "Python 3 (ipykernel)",
   "language": "python",
   "name": "python3"
  },
  "language_info": {
   "codemirror_mode": {
    "name": "ipython",
    "version": 3
   },
   "file_extension": ".py",
   "mimetype": "text/x-python",
   "name": "python",
   "nbconvert_exporter": "python",
   "pygments_lexer": "ipython3",
   "version": "3.12.1"
  }
 },
 "nbformat": 4,
 "nbformat_minor": 5
}
