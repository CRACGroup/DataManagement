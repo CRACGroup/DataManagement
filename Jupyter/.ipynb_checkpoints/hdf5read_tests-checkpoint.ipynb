{
 "cells": [
  {
   "cell_type": "code",
   "execution_count": 1,
   "id": "71c5a993",
   "metadata": {},
   "outputs": [],
   "source": [
    "### This is a notebook for HDF5 reading tests"
   ]
  },
  {
   "cell_type": "code",
   "execution_count": 2,
   "id": "2035db95",
   "metadata": {},
   "outputs": [],
   "source": [
    "import h5py\n",
    "import numpy as np\n",
    "import os\n",
    "import glob\n",
    "import pandas as pd"
   ]
  },
  {
   "cell_type": "code",
   "execution_count": 3,
   "id": "34118176",
   "metadata": {},
   "outputs": [],
   "source": [
    "year,month,day=('2024','03','08')\n",
    "h5name = 'IASC_'+year+month+day+'.hdf5' ### name of the hdf5 file"
   ]
  },
  {
   "cell_type": "code",
   "execution_count": 5,
   "id": "5a2eaa75",
   "metadata": {},
   "outputs": [
    {
     "name": "stdout",
     "output_type": "stream",
     "text": [
      "/ <KeysViewHDF5 ['CES Instruments', 'Chamber']>\n"
     ]
    }
   ],
   "source": [
    "exp_data = h5py.File(h5name,'r')\n",
    "print(exp_data.name, exp_data.keys())"
   ]
  },
  {
   "cell_type": "code",
   "execution_count": 6,
   "id": "cf404da0",
   "metadata": {},
   "outputs": [
    {
     "data": {
      "text/plain": [
       "<KeysViewHDF5 ['CEAS360', 'CEAS450', 'CEAS660', 'CRDS405']>"
      ]
     },
     "execution_count": 6,
     "metadata": {},
     "output_type": "execute_result"
    }
   ],
   "source": [
    "ces_data = exp_data['CES Instruments']\n",
    "ces_data.keys()"
   ]
  },
  {
   "cell_type": "code",
   "execution_count": 7,
   "id": "1954ccd8",
   "metadata": {},
   "outputs": [
    {
     "data": {
      "text/plain": [
       "<KeysViewHDF5 ['RelHumidity', 'co2', 'diffP', 'no', 'no2', 'nox', 'o3', 'pres', 'temp', 'time']>"
      ]
     },
     "execution_count": 7,
     "metadata": {},
     "output_type": "execute_result"
    }
   ],
   "source": [
    "chamber_data = exp_data['Chamber']\n",
    "chamber_data.keys()"
   ]
  },
  {
   "cell_type": "code",
   "execution_count": null,
   "id": "e63a2f41",
   "metadata": {},
   "outputs": [],
   "source": [
    "ces_data['./CEAS450/no2'][3:9]"
   ]
  },
  {
   "cell_type": "code",
   "execution_count": 16,
   "id": "3e5343b8",
   "metadata": {},
   "outputs": [],
   "source": [
    "exp_data.close()"
   ]
  },
  {
   "cell_type": "code",
   "execution_count": null,
   "id": "7e80e135",
   "metadata": {},
   "outputs": [],
   "source": []
  }
 ],
 "metadata": {
  "kernelspec": {
   "display_name": "Python 3 (ipykernel)",
   "language": "python",
   "name": "python3"
  },
  "language_info": {
   "codemirror_mode": {
    "name": "ipython",
    "version": 3
   },
   "file_extension": ".py",
   "mimetype": "text/x-python",
   "name": "python",
   "nbconvert_exporter": "python",
   "pygments_lexer": "ipython3",
   "version": "3.11.2"
  }
 },
 "nbformat": 4,
 "nbformat_minor": 5
}
