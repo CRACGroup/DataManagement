{
 "cells": [
  {
   "cell_type": "code",
   "execution_count": null,
   "id": "6612cdfe",
   "metadata": {},
   "outputs": [],
   "source": [
    "### This is a notebook for HDF5 writing tests"
   ]
  },
  {
   "cell_type": "code",
   "execution_count": 1,
   "id": "31e09e65",
   "metadata": {},
   "outputs": [],
   "source": [
    "import h5py\n",
    "import numpy as np\n",
    "import os\n",
    "import glob\n",
    "import pandas as pd"
   ]
  },
  {
   "cell_type": "code",
   "execution_count": 48,
   "id": "671f03cd-95a3-49c5-81b6-009cb5f48968",
   "metadata": {},
   "outputs": [],
   "source": [
    "year,month,day=('2024','03','08')\n",
    "h5name = 'IASC_'+year+month+day+'.hdf5' ### name of the hdf5 file\n",
    "groups = ['CES Instruments', 'Chamber']\n",
    "ces_list = ['CEAS360','CEAS450','CEAS660','CRDS405']\n",
    "ces_dir = ['c:\\\\HUB\\\\DataManagement\\\\Jupyter\\\\testdata\\\\HONO\\\\',\n",
    "           'c:\\\\HUB\\\\DataManagement\\\\Jupyter\\\\testdata\\\\GLY\\\\',\n",
    "           'c:\\\\HUB\\\\DataManagement\\\\Jupyter\\\\testdata\\\\NO3\\\\',\n",
    "           'c:\\\\HUB\\\\DataManagement\\\\Jupyter\\\\testdata\\\\NO2\\\\'\n",
    "            #'D:\\\\gitAll\\\\HUB\\\\DataManagement\\\\Jupyter\\\\testdata\\\\HONO\\\\',\n",
    "           #'D:\\\\gitAll\\\\HUB\\\\DataManagement\\\\Jupyter\\\\testdata\\\\GLY\\\\',\n",
    "           #'D:\\\\gitAll\\\\HUB\\\\DataManagement\\\\Jupyter\\\\testdata\\\\NO3\\\\',\n",
    "           #'D:\\\\gitAll\\\\HUB\\\\DataManagement\\\\Jupyter\\\\testdata\\\\NO2\\\\'\n",
    "            ]\n",
    "ces_column_desc = [['time','no2','hono'],\n",
    "               ['time','no2','chocho'],\n",
    "               ['time','no3','no2','h2o'],\n",
    "               ['time','no2','tau','pres','temp','f_s','f_p','flag']]\n",
    "ces_column_units = [['YYYY/MM/DD-HH:MM:SS','ppbv','ppbv'],\n",
    "                ['YYYY/MM/DD-HH:MM:SS','ppbv','ppbv'],\n",
    "                ['YYYY/MM/DD-HH:MM:SS','ppbv','ppbv','ppbv'],\n",
    "                ['YYYY/MM/DD-HH:MM:SS','ppbv','microsecs','psi','degC','lpm','lpm','NA']]\n",
    "chamber_dir='c:\\\\HUB\\\\DataManagement\\\\Jupyter\\\\testdata\\\\'#'D:\\\\gitAll\\\\HUB\\\\DataManagement\\\\Jupyter\\\\testdata\\\\'\n",
    "chamber_column_desc = ['time','temp','diffP','RelHumidity','pres','no','no2','nox','o3','co2']\n",
    "chamber_column_units = ['YYYY/MM/DD-HH:MM:SS','degC','Pa','percent','hPa','ppbv','ppbv','ppbv','ppbv','ppmv'] #one less column that \n"
   ]
  },
  {
   "cell_type": "code",
   "execution_count": 59,
   "id": "adf364a3-c961-44fe-8a5c-6937496faf97",
   "metadata": {},
   "outputs": [
    {
     "name": "stderr",
     "output_type": "stream",
     "text": [
      "C:\\Users\\Mixtli\\AppData\\Local\\Programs\\Python\\Python311\\Lib\\site-packages\\pandas\\core\\dtypes\\cast.py:1134: RuntimeWarning: invalid value encountered in cast\n",
      "  if (arr.astype(int) == arr).all():\n",
      "C:\\Users\\Mixtli\\AppData\\Local\\Programs\\Python\\Python311\\Lib\\site-packages\\pandas\\core\\dtypes\\cast.py:1153: RuntimeWarning: invalid value encountered in cast\n",
      "  if (arr.astype(int) == arr).all():\n"
     ]
    }
   ],
   "source": [
    "f = h5py.File(h5name, 'a')\n",
    "for ii,ele in enumerate(ces_list):\n",
    "    grp = f.create_group(groups[0]+'/'+ ele)\n",
    "    dset_dir = glob.glob(ces_dir[ii]+year+month+day)[-1]\n",
    "    dset_file = glob.glob(dset_dir+'\\\\M*.txt')[-2]\n",
    "    dset = pd.read_csv(dset_file,sep=' ',header=None,names=ces_column_desc[ii])\n",
    "    dset = dset.convert_dtypes()\n",
    "    for jj,col in enumerate(ces_column_desc[ii]):\n",
    "        try:\n",
    "            dataset = grp.create_dataset(col, data=np.asarray(dset[col],dtype='float64'))\n",
    "            dataset.attrs['units']=ces_column_units[ii][jj]\n",
    "        except:\n",
    "            dataset = grp.create_dataset(col, data=np.asarray(dset[col],dtype='S19'))\n",
    "            dataset.attrs['units']=ces_column_units[ii][jj]\n",
    "    if ele != 'CRDS405':\n",
    "        dset_file = glob.glob(dset_dir+'\\\\Ib*.txt')[-1]\n",
    "        zeros = np.loadtxt(dset_file)\n",
    "        dataset = grp.create_dataset(\"wavelengths\", data=np.asarray(zeros[:,0],dtype='float64'))\n",
    "        dataset.attrs['units']='nm'\n",
    "        dataset = grp.create_dataset(\"zeros\", data=np.asarray(zeros[:,1:],dtype='float64'))\n",
    "        dataset.attrs['units']='counts'\n",
    "        \n",
    "        dset_file = glob.glob(dset_dir+'\\\\Imeas*.npy')[-1]\n",
    "        meas = np.load(dset_file)\n",
    "        dataset = grp.create_dataset(\"measurements\", data=np.asarray(meas[:,1:],dtype='float64'))\n",
    "        dataset.attrs['units']='counts'\n",
    "        \n",
    "grp = f.create_group(groups[1])\n",
    "dset_file = glob.glob(chamber_dir+'CRAC*'+year+'-'+month+'-'+day+'*.tsv')[-1]\n",
    "dset= pd.read_csv(dset_file,sep='\\t',header=None,names=chamber_column_desc,skiprows=2,encoding='utf-16')\n",
    "dset = dset.convert_dtypes()\n",
    "for kk,col in enumerate(chamber_column_desc):\n",
    "    if kk == 0:\n",
    "        dts = []\n",
    "        for ele in dset[col]:\n",
    "            ele = ele.replace('-','/')\n",
    "            ele = ele.replace(' ','-')\n",
    "            dts.append(ele)\n",
    "        dataset = grp.create_dataset(col, data=np.asarray(dts,dtype='S19'))\n",
    "        dataset.attrs['units']=chamber_column_units[kk]\n",
    "    else:\n",
    "        dataset = grp.create_dataset(col, data=np.asarray(dset[col],dtype='float64'))\n",
    "        dataset.attrs['units']=chamber_column_units[kk]\n",
    "f.close()"
   ]
  },
  {
   "cell_type": "code",
   "execution_count": 56,
   "id": "8d87cfa6-2d64-4622-823d-b004c43d4c86",
   "metadata": {},
   "outputs": [],
   "source": [
    "f.close()"
   ]
  },
  {
   "cell_type": "code",
   "execution_count": null,
   "id": "b33032c3-2d3b-4dd3-8cc0-1cc603331b6a",
   "metadata": {},
   "outputs": [],
   "source": []
  },
  {
   "cell_type": "code",
   "execution_count": null,
   "id": "3573ccaf-d4e1-4307-919c-09095dca818b",
   "metadata": {},
   "outputs": [],
   "source": [
    "os.walk(ces_dir[1])"
   ]
  },
  {
   "cell_type": "code",
   "execution_count": 24,
   "id": "22676e53-57d9-417c-aec8-5a23d5755474",
   "metadata": {},
   "outputs": [],
   "source": [
    "dset_dir = glob.glob(ces_dir[2]+year+month+day)[-1]\n",
    "dset_file = glob.glob(dset_dir+'\\\\M*.txt')[-2]"
   ]
  },
  {
   "cell_type": "code",
   "execution_count": 25,
   "id": "8783987f-1497-401c-9b6f-aa90714e6d83",
   "metadata": {},
   "outputs": [
    {
     "data": {
      "text/plain": [
       "'D:\\\\gitAll\\\\HUB\\\\DataManagement\\\\Jupyter\\\\testdata\\\\NO3\\\\20240308\\\\M2403081840.txt'"
      ]
     },
     "execution_count": 25,
     "metadata": {},
     "output_type": "execute_result"
    }
   ],
   "source": [
    "glob.glob(dset_dir+'\\\\M*.txt')[-2]"
   ]
  },
  {
   "cell_type": "code",
   "execution_count": 8,
   "id": "4f55aa56-dd85-4eab-b160-1fed2799ba8a",
   "metadata": {},
   "outputs": [
    {
     "name": "stdout",
     "output_type": "stream",
     "text": [
      "D:\\gitAll\\HUB\\DataManagement\\Jupyter\\testdata\\NO3\\20240308 D:\\gitAll\\HUB\\DataManagement\\Jupyter\\testdata\\NO3\\20240308\\M2403081840.txt\n"
     ]
    }
   ],
   "source": [
    "print(dset_dir,dset_file)"
   ]
  },
  {
   "cell_type": "code",
   "execution_count": 9,
   "id": "daac81a0-a360-4036-8132-7e48a57e2355",
   "metadata": {},
   "outputs": [
    {
     "name": "stderr",
     "output_type": "stream",
     "text": [
      "C:\\Users\\mixtl\\AppData\\Local\\Programs\\Python\\Python312\\Lib\\site-packages\\pandas\\core\\dtypes\\cast.py:1057: RuntimeWarning: invalid value encountered in cast\n",
      "  if (arr.astype(int) == arr).all():\n",
      "C:\\Users\\mixtl\\AppData\\Local\\Programs\\Python\\Python312\\Lib\\site-packages\\pandas\\core\\dtypes\\cast.py:1081: RuntimeWarning: invalid value encountered in cast\n",
      "  if (arr.astype(int) == arr).all():\n"
     ]
    }
   ],
   "source": [
    "dset = pd.read_csv(dset_file,sep=' ',header=None,names=column_desc[2])\n",
    "dset = dset.convert_dtypes()"
   ]
  },
  {
   "cell_type": "code",
   "execution_count": 10,
   "id": "60d13e23-53b4-44d2-b720-8a3e1f3a05c3",
   "metadata": {},
   "outputs": [
    {
     "data": {
      "text/plain": [
       "0       2024/03/08-12:51:01\n",
       "1       2024/03/08-12:51:18\n",
       "2       2024/03/08-12:51:36\n",
       "3       2024/03/08-12:51:53\n",
       "4       2024/03/08-12:52:11\n",
       "               ...         \n",
       "1186    2024/03/08-18:39:35\n",
       "1187    2024/03/08-18:39:53\n",
       "1188    2024/03/08-18:40:11\n",
       "1189    2024/03/08-18:40:28\n",
       "1190    2024/03/08-18:40:46\n",
       "Name: time, Length: 1191, dtype: object"
      ]
     },
     "execution_count": 10,
     "metadata": {},
     "output_type": "execute_result"
    }
   ],
   "source": [
    "times = dset[\"time\"].astype('U')\n",
    "times.astype('U')"
   ]
  },
  {
   "cell_type": "code",
   "execution_count": 11,
   "id": "44f9b61f-536d-4ef0-8006-23d5cd0cf746",
   "metadata": {},
   "outputs": [
    {
     "data": {
      "text/plain": [
       "0       2024/03/08-12:51:01\n",
       "1       2024/03/08-12:51:18\n",
       "2       2024/03/08-12:51:36\n",
       "3       2024/03/08-12:51:53\n",
       "4       2024/03/08-12:52:11\n",
       "               ...         \n",
       "1186    2024/03/08-18:39:35\n",
       "1187    2024/03/08-18:39:53\n",
       "1188    2024/03/08-18:40:11\n",
       "1189    2024/03/08-18:40:28\n",
       "1190    2024/03/08-18:40:46\n",
       "Name: time, Length: 1191, dtype: string"
      ]
     },
     "execution_count": 11,
     "metadata": {},
     "output_type": "execute_result"
    }
   ],
   "source": [
    "dset[\"time\"]"
   ]
  },
  {
   "cell_type": "code",
   "execution_count": 12,
   "id": "d6fdf6f2-5b8d-4fae-93fe-d8a37d65b777",
   "metadata": {},
   "outputs": [
    {
     "data": {
      "text/plain": [
       "0       2379808097.145396\n",
       "1            -4434.953456\n",
       "2            -1117.263841\n",
       "3             -5498.75019\n",
       "4            -2782.483749\n",
       "              ...        \n",
       "1186        922253.241981\n",
       "1187        917002.050024\n",
       "1188        907170.597801\n",
       "1189        896193.932299\n",
       "1190        883114.259391\n",
       "Name: h2o, Length: 1191, dtype: Float64"
      ]
     },
     "execution_count": 12,
     "metadata": {},
     "output_type": "execute_result"
    }
   ],
   "source": [
    "dset.h2o"
   ]
  },
  {
   "cell_type": "code",
   "execution_count": 13,
   "id": "09cc5447-3e83-457e-88de-4c20cd6a3ca9",
   "metadata": {},
   "outputs": [
    {
     "data": {
      "text/plain": [
       "time    string[python]\n",
       "no3            Float64\n",
       "no2            Float64\n",
       "h2o            Float64\n",
       "dtype: object"
      ]
     },
     "execution_count": 13,
     "metadata": {},
     "output_type": "execute_result"
    }
   ],
   "source": [
    "dset.dtypes"
   ]
  },
  {
   "cell_type": "code",
   "execution_count": 14,
   "id": "229dfdcf-dedf-4714-8f92-5bd4fda46d1a",
   "metadata": {},
   "outputs": [
    {
     "data": {
      "text/plain": [
       "'flag'"
      ]
     },
     "execution_count": 14,
     "metadata": {},
     "output_type": "execute_result"
    }
   ],
   "source": [
    "col"
   ]
  },
  {
   "cell_type": "code",
   "execution_count": 15,
   "id": "7776d421-1681-4a87-bfa1-1b94b7a814ed",
   "metadata": {},
   "outputs": [
    {
     "ename": "KeyError",
     "evalue": "'flag'",
     "output_type": "error",
     "traceback": [
      "\u001b[1;31m---------------------------------------------------------------------------\u001b[0m",
      "\u001b[1;31mKeyError\u001b[0m                                  Traceback (most recent call last)",
      "File \u001b[1;32m~\\AppData\\Local\\Programs\\Python\\Python312\\Lib\\site-packages\\pandas\\core\\indexes\\base.py:3802\u001b[0m, in \u001b[0;36mIndex.get_loc\u001b[1;34m(self, key)\u001b[0m\n\u001b[0;32m   3801\u001b[0m \u001b[38;5;28;01mtry\u001b[39;00m:\n\u001b[1;32m-> 3802\u001b[0m     \u001b[38;5;28;01mreturn\u001b[39;00m \u001b[38;5;28;43mself\u001b[39;49m\u001b[38;5;241;43m.\u001b[39;49m\u001b[43m_engine\u001b[49m\u001b[38;5;241;43m.\u001b[39;49m\u001b[43mget_loc\u001b[49m\u001b[43m(\u001b[49m\u001b[43mcasted_key\u001b[49m\u001b[43m)\u001b[49m\n\u001b[0;32m   3803\u001b[0m \u001b[38;5;28;01mexcept\u001b[39;00m \u001b[38;5;167;01mKeyError\u001b[39;00m \u001b[38;5;28;01mas\u001b[39;00m err:\n",
      "File \u001b[1;32mindex.pyx:153\u001b[0m, in \u001b[0;36mpandas._libs.index.IndexEngine.get_loc\u001b[1;34m()\u001b[0m\n",
      "File \u001b[1;32mindex.pyx:182\u001b[0m, in \u001b[0;36mpandas._libs.index.IndexEngine.get_loc\u001b[1;34m()\u001b[0m\n",
      "File \u001b[1;32mpandas\\\\_libs\\\\hashtable_class_helper.pxi:7081\u001b[0m, in \u001b[0;36mpandas._libs.hashtable.PyObjectHashTable.get_item\u001b[1;34m()\u001b[0m\n",
      "File \u001b[1;32mpandas\\\\_libs\\\\hashtable_class_helper.pxi:7089\u001b[0m, in \u001b[0;36mpandas._libs.hashtable.PyObjectHashTable.get_item\u001b[1;34m()\u001b[0m\n",
      "\u001b[1;31mKeyError\u001b[0m: 'flag'",
      "\nThe above exception was the direct cause of the following exception:\n",
      "\u001b[1;31mKeyError\u001b[0m                                  Traceback (most recent call last)",
      "Cell \u001b[1;32mIn[15], line 1\u001b[0m\n\u001b[1;32m----> 1\u001b[0m np\u001b[38;5;241m.\u001b[39masarray(\u001b[43mdset\u001b[49m\u001b[43m[\u001b[49m\u001b[43mcol\u001b[49m\u001b[43m]\u001b[49m,dtype\u001b[38;5;241m=\u001b[39m\u001b[38;5;124m'\u001b[39m\u001b[38;5;124mstr\u001b[39m\u001b[38;5;124m'\u001b[39m)\n",
      "File \u001b[1;32m~\\AppData\\Local\\Programs\\Python\\Python312\\Lib\\site-packages\\pandas\\core\\frame.py:4090\u001b[0m, in \u001b[0;36mDataFrame.__getitem__\u001b[1;34m(self, key)\u001b[0m\n\u001b[0;32m   4088\u001b[0m \u001b[38;5;28;01mif\u001b[39;00m \u001b[38;5;28mself\u001b[39m\u001b[38;5;241m.\u001b[39mcolumns\u001b[38;5;241m.\u001b[39mnlevels \u001b[38;5;241m>\u001b[39m \u001b[38;5;241m1\u001b[39m:\n\u001b[0;32m   4089\u001b[0m     \u001b[38;5;28;01mreturn\u001b[39;00m \u001b[38;5;28mself\u001b[39m\u001b[38;5;241m.\u001b[39m_getitem_multilevel(key)\n\u001b[1;32m-> 4090\u001b[0m indexer \u001b[38;5;241m=\u001b[39m \u001b[38;5;28;43mself\u001b[39;49m\u001b[38;5;241;43m.\u001b[39;49m\u001b[43mcolumns\u001b[49m\u001b[38;5;241;43m.\u001b[39;49m\u001b[43mget_loc\u001b[49m\u001b[43m(\u001b[49m\u001b[43mkey\u001b[49m\u001b[43m)\u001b[49m\n\u001b[0;32m   4091\u001b[0m \u001b[38;5;28;01mif\u001b[39;00m is_integer(indexer):\n\u001b[0;32m   4092\u001b[0m     indexer \u001b[38;5;241m=\u001b[39m [indexer]\n",
      "File \u001b[1;32m~\\AppData\\Local\\Programs\\Python\\Python312\\Lib\\site-packages\\pandas\\core\\indexes\\base.py:3809\u001b[0m, in \u001b[0;36mIndex.get_loc\u001b[1;34m(self, key)\u001b[0m\n\u001b[0;32m   3804\u001b[0m     \u001b[38;5;28;01mif\u001b[39;00m \u001b[38;5;28misinstance\u001b[39m(casted_key, \u001b[38;5;28mslice\u001b[39m) \u001b[38;5;129;01mor\u001b[39;00m (\n\u001b[0;32m   3805\u001b[0m         \u001b[38;5;28misinstance\u001b[39m(casted_key, abc\u001b[38;5;241m.\u001b[39mIterable)\n\u001b[0;32m   3806\u001b[0m         \u001b[38;5;129;01mand\u001b[39;00m \u001b[38;5;28many\u001b[39m(\u001b[38;5;28misinstance\u001b[39m(x, \u001b[38;5;28mslice\u001b[39m) \u001b[38;5;28;01mfor\u001b[39;00m x \u001b[38;5;129;01min\u001b[39;00m casted_key)\n\u001b[0;32m   3807\u001b[0m     ):\n\u001b[0;32m   3808\u001b[0m         \u001b[38;5;28;01mraise\u001b[39;00m InvalidIndexError(key)\n\u001b[1;32m-> 3809\u001b[0m     \u001b[38;5;28;01mraise\u001b[39;00m \u001b[38;5;167;01mKeyError\u001b[39;00m(key) \u001b[38;5;28;01mfrom\u001b[39;00m \u001b[38;5;21;01merr\u001b[39;00m\n\u001b[0;32m   3810\u001b[0m \u001b[38;5;28;01mexcept\u001b[39;00m \u001b[38;5;167;01mTypeError\u001b[39;00m:\n\u001b[0;32m   3811\u001b[0m     \u001b[38;5;66;03m# If we have a listlike key, _check_indexing_error will raise\u001b[39;00m\n\u001b[0;32m   3812\u001b[0m     \u001b[38;5;66;03m#  InvalidIndexError. Otherwise we fall through and re-raise\u001b[39;00m\n\u001b[0;32m   3813\u001b[0m     \u001b[38;5;66;03m#  the TypeError.\u001b[39;00m\n\u001b[0;32m   3814\u001b[0m     \u001b[38;5;28mself\u001b[39m\u001b[38;5;241m.\u001b[39m_check_indexing_error(key)\n",
      "\u001b[1;31mKeyError\u001b[0m: 'flag'"
     ]
    }
   ],
   "source": [
    "np.asarray(dset[col],dtype='str')"
   ]
  },
  {
   "cell_type": "code",
   "execution_count": 18,
   "id": "f4d62728-6053-4916-a68b-598448c72603",
   "metadata": {},
   "outputs": [
    {
     "data": {
      "text/plain": [
       "(1191,)"
      ]
     },
     "execution_count": 18,
     "metadata": {},
     "output_type": "execute_result"
    }
   ],
   "source": [
    "a=dset['time'].shape\n",
    "a"
   ]
  },
  {
   "cell_type": "code",
   "execution_count": 2,
   "id": "7156a6c3-e697-4142-831c-580558d55bf3",
   "metadata": {},
   "outputs": [],
   "source": [
    "year,month,day=('2024','03','08')"
   ]
  },
  {
   "cell_type": "code",
   "execution_count": 3,
   "id": "3e4e7888-1d34-422d-9523-5dc3ce377c35",
   "metadata": {},
   "outputs": [
    {
     "name": "stdout",
     "output_type": "stream",
     "text": [
      "2024 03 08\n"
     ]
    }
   ],
   "source": [
    "print(year,month,day)"
   ]
  },
  {
   "cell_type": "code",
   "execution_count": 10,
   "id": "6f5ae009-c72b-463c-8580-697f4d544c65",
   "metadata": {},
   "outputs": [
    {
     "data": {
      "text/plain": [
       "['c:\\\\HUB\\\\DataManagement\\\\Jupyter\\\\testdata\\\\CRAC (All Locations)-2024-03-08 23-45-04.tsv']"
      ]
     },
     "execution_count": 10,
     "metadata": {},
     "output_type": "execute_result"
    }
   ],
   "source": [
    "dset_file = glob.glob(chamber_dir+'*'+year+'-'+month+'-'+day+'*.tsv')\n",
    "dset_file"
   ]
  },
  {
   "cell_type": "code",
   "execution_count": 32,
   "id": "906fb88a-f642-4aa6-9562-227d987a5323",
   "metadata": {},
   "outputs": [
    {
     "data": {
      "text/html": [
       "<div>\n",
       "<style scoped>\n",
       "    .dataframe tbody tr th:only-of-type {\n",
       "        vertical-align: middle;\n",
       "    }\n",
       "\n",
       "    .dataframe tbody tr th {\n",
       "        vertical-align: top;\n",
       "    }\n",
       "\n",
       "    .dataframe thead th {\n",
       "        text-align: right;\n",
       "    }\n",
       "</style>\n",
       "<table border=\"1\" class=\"dataframe\">\n",
       "  <thead>\n",
       "    <tr style=\"text-align: right;\">\n",
       "      <th></th>\n",
       "      <th>datetime</th>\n",
       "      <th>temp</th>\n",
       "      <th>diffP</th>\n",
       "      <th>RelHumidity</th>\n",
       "      <th>pres</th>\n",
       "      <th>no</th>\n",
       "      <th>no2</th>\n",
       "      <th>nox</th>\n",
       "      <th>o3</th>\n",
       "      <th>co2</th>\n",
       "    </tr>\n",
       "  </thead>\n",
       "  <tbody>\n",
       "    <tr>\n",
       "      <th>0</th>\n",
       "      <td>2024-03-07 23:45:00</td>\n",
       "      <td>20.53</td>\n",
       "      <td>5.239</td>\n",
       "      <td>0.49</td>\n",
       "      <td>1006.89</td>\n",
       "      <td>0.12</td>\n",
       "      <td>0.0</td>\n",
       "      <td>0.0</td>\n",
       "      <td>0.24</td>\n",
       "      <td>429.0</td>\n",
       "    </tr>\n",
       "    <tr>\n",
       "      <th>1</th>\n",
       "      <td>2024-03-07 23:45:30</td>\n",
       "      <td>20.53</td>\n",
       "      <td>5.68</td>\n",
       "      <td>0.49</td>\n",
       "      <td>1006.89</td>\n",
       "      <td>0.12</td>\n",
       "      <td>0.0</td>\n",
       "      <td>0.0</td>\n",
       "      <td>0.61</td>\n",
       "      <td>425.4</td>\n",
       "    </tr>\n",
       "    <tr>\n",
       "      <th>2</th>\n",
       "      <td>2024-03-07 23:46:00</td>\n",
       "      <td>20.53</td>\n",
       "      <td>6.636</td>\n",
       "      <td>0.49</td>\n",
       "      <td>1007.04</td>\n",
       "      <td>0.12</td>\n",
       "      <td>0.0</td>\n",
       "      <td>0.0</td>\n",
       "      <td>0.73</td>\n",
       "      <td>425.4</td>\n",
       "    </tr>\n",
       "    <tr>\n",
       "      <th>3</th>\n",
       "      <td>2024-03-07 23:46:30</td>\n",
       "      <td>20.53</td>\n",
       "      <td>7.47</td>\n",
       "      <td>0.49</td>\n",
       "      <td>1006.89</td>\n",
       "      <td>0.12</td>\n",
       "      <td>0.0</td>\n",
       "      <td>0.0</td>\n",
       "      <td>0.49</td>\n",
       "      <td>422.9</td>\n",
       "    </tr>\n",
       "    <tr>\n",
       "      <th>4</th>\n",
       "      <td>2024-03-07 23:47:00</td>\n",
       "      <td>20.53</td>\n",
       "      <td>5.779</td>\n",
       "      <td>0.49</td>\n",
       "      <td>1006.89</td>\n",
       "      <td>0.12</td>\n",
       "      <td>0.0</td>\n",
       "      <td>0.0</td>\n",
       "      <td>0.86</td>\n",
       "      <td>426.6</td>\n",
       "    </tr>\n",
       "    <tr>\n",
       "      <th>...</th>\n",
       "      <td>...</td>\n",
       "      <td>...</td>\n",
       "      <td>...</td>\n",
       "      <td>...</td>\n",
       "      <td>...</td>\n",
       "      <td>...</td>\n",
       "      <td>...</td>\n",
       "      <td>...</td>\n",
       "      <td>...</td>\n",
       "      <td>...</td>\n",
       "    </tr>\n",
       "    <tr>\n",
       "      <th>2874</th>\n",
       "      <td>2024-03-08 23:42:00</td>\n",
       "      <td>20.212</td>\n",
       "      <td>6.93</td>\n",
       "      <td>0.51</td>\n",
       "      <td>994.23</td>\n",
       "      <td>0.12</td>\n",
       "      <td>0.0</td>\n",
       "      <td>0.0</td>\n",
       "      <td>0.49</td>\n",
       "      <td>425.4</td>\n",
       "    </tr>\n",
       "    <tr>\n",
       "      <th>2875</th>\n",
       "      <td>2024-03-08 23:42:30</td>\n",
       "      <td>20.212</td>\n",
       "      <td>6.367</td>\n",
       "      <td>0.51</td>\n",
       "      <td>994.09</td>\n",
       "      <td>0.12</td>\n",
       "      <td>0.12</td>\n",
       "      <td>0.0</td>\n",
       "      <td>0.49</td>\n",
       "      <td>422.9</td>\n",
       "    </tr>\n",
       "    <tr>\n",
       "      <th>2876</th>\n",
       "      <td>2024-03-08 23:43:00</td>\n",
       "      <td>20.212</td>\n",
       "      <td>5.288</td>\n",
       "      <td>0.51</td>\n",
       "      <td>994.23</td>\n",
       "      <td>0.12</td>\n",
       "      <td>0.0</td>\n",
       "      <td>0.0</td>\n",
       "      <td>0.37</td>\n",
       "      <td>422.9</td>\n",
       "    </tr>\n",
       "    <tr>\n",
       "      <th>2877</th>\n",
       "      <td>2024-03-08 23:43:30</td>\n",
       "      <td>20.212</td>\n",
       "      <td>6.097</td>\n",
       "      <td>0.51</td>\n",
       "      <td>994.23</td>\n",
       "      <td>0.12</td>\n",
       "      <td>0.0</td>\n",
       "      <td>0.0</td>\n",
       "      <td>0.24</td>\n",
       "      <td>424.1</td>\n",
       "    </tr>\n",
       "    <tr>\n",
       "      <th>2878</th>\n",
       "      <td>2024-03-08 23:44:00</td>\n",
       "      <td>20.212</td>\n",
       "      <td>6.563</td>\n",
       "      <td>0.51</td>\n",
       "      <td>994.23</td>\n",
       "      <td>0.12</td>\n",
       "      <td>0.0</td>\n",
       "      <td>0.0</td>\n",
       "      <td>0.24</td>\n",
       "      <td>429.0</td>\n",
       "    </tr>\n",
       "  </tbody>\n",
       "</table>\n",
       "<p>2879 rows × 10 columns</p>\n",
       "</div>"
      ],
      "text/plain": [
       "                 datetime    temp  diffP  RelHumidity     pres    no   no2  \\\n",
       "0     2024-03-07 23:45:00   20.53  5.239         0.49  1006.89  0.12   0.0   \n",
       "1     2024-03-07 23:45:30   20.53   5.68         0.49  1006.89  0.12   0.0   \n",
       "2     2024-03-07 23:46:00   20.53  6.636         0.49  1007.04  0.12   0.0   \n",
       "3     2024-03-07 23:46:30   20.53   7.47         0.49  1006.89  0.12   0.0   \n",
       "4     2024-03-07 23:47:00   20.53  5.779         0.49  1006.89  0.12   0.0   \n",
       "...                   ...     ...    ...          ...      ...   ...   ...   \n",
       "2874  2024-03-08 23:42:00  20.212   6.93         0.51   994.23  0.12   0.0   \n",
       "2875  2024-03-08 23:42:30  20.212  6.367         0.51   994.09  0.12  0.12   \n",
       "2876  2024-03-08 23:43:00  20.212  5.288         0.51   994.23  0.12   0.0   \n",
       "2877  2024-03-08 23:43:30  20.212  6.097         0.51   994.23  0.12   0.0   \n",
       "2878  2024-03-08 23:44:00  20.212  6.563         0.51   994.23  0.12   0.0   \n",
       "\n",
       "      nox    o3    co2  \n",
       "0     0.0  0.24  429.0  \n",
       "1     0.0  0.61  425.4  \n",
       "2     0.0  0.73  425.4  \n",
       "3     0.0  0.49  422.9  \n",
       "4     0.0  0.86  426.6  \n",
       "...   ...   ...    ...  \n",
       "2874  0.0  0.49  425.4  \n",
       "2875  0.0  0.49  422.9  \n",
       "2876  0.0  0.37  422.9  \n",
       "2877  0.0  0.24  424.1  \n",
       "2878  0.0  0.24  429.0  \n",
       "\n",
       "[2879 rows x 10 columns]"
      ]
     },
     "execution_count": 32,
     "metadata": {},
     "output_type": "execute_result"
    }
   ],
   "source": [
    "dset= pd.read_csv(dset_file[-1],sep='\\t',header=None,names=chamber_column_desc,skiprows=2,encoding='utf-16')\n",
    "dset = dset.convert_dtypes()\n",
    "dset"
   ]
  },
  {
   "cell_type": "code",
   "execution_count": 33,
   "id": "7a28421e",
   "metadata": {},
   "outputs": [
    {
     "data": {
      "text/plain": [
       "0       2024-03-07 23:45:00\n",
       "1       2024-03-07 23:45:30\n",
       "2       2024-03-07 23:46:00\n",
       "3       2024-03-07 23:46:30\n",
       "4       2024-03-07 23:47:00\n",
       "               ...         \n",
       "2874    2024-03-08 23:42:00\n",
       "2875    2024-03-08 23:42:30\n",
       "2876    2024-03-08 23:43:00\n",
       "2877    2024-03-08 23:43:30\n",
       "2878    2024-03-08 23:44:00\n",
       "Name: datetime, Length: 2879, dtype: string"
      ]
     },
     "execution_count": 33,
     "metadata": {},
     "output_type": "execute_result"
    }
   ],
   "source": [
    "dset.datetime"
   ]
  },
  {
   "cell_type": "code",
   "execution_count": 24,
   "id": "6c7fd8a2",
   "metadata": {},
   "outputs": [
    {
     "data": {
      "text/plain": [
       "0       b'2024-03-07 23:45:00'\n",
       "1       b'2024-03-07 23:45:30'\n",
       "2       b'2024-03-07 23:46:00'\n",
       "3       b'2024-03-07 23:46:30'\n",
       "4       b'2024-03-07 23:47:00'\n",
       "                 ...          \n",
       "2874    b'2024-03-08 23:42:00'\n",
       "2875    b'2024-03-08 23:42:30'\n",
       "2876    b'2024-03-08 23:43:00'\n",
       "2877    b'2024-03-08 23:43:30'\n",
       "2878    b'2024-03-08 23:44:00'\n",
       "Name: datetime, Length: 2879, dtype: bytes152"
      ]
     },
     "execution_count": 24,
     "metadata": {},
     "output_type": "execute_result"
    }
   ],
   "source": [
    "times = dset[\"datetime\"].astype('S19')\n",
    "times"
   ]
  },
  {
   "cell_type": "code",
   "execution_count": 25,
   "id": "e61226f0",
   "metadata": {},
   "outputs": [
    {
     "ename": "TypeError",
     "evalue": "'str' object does not support item assignment",
     "output_type": "error",
     "traceback": [
      "\u001b[1;31m---------------------------------------------------------------------------\u001b[0m",
      "\u001b[1;31mTypeError\u001b[0m                                 Traceback (most recent call last)",
      "Cell \u001b[1;32mIn[25], line 3\u001b[0m\n\u001b[0;32m      1\u001b[0m dts \u001b[38;5;241m=\u001b[39m []\n\u001b[0;32m      2\u001b[0m \u001b[38;5;28;01mfor\u001b[39;00m ele \u001b[38;5;129;01min\u001b[39;00m dset\u001b[38;5;241m.\u001b[39mdatetime:\n\u001b[1;32m----> 3\u001b[0m     \u001b[43mele\u001b[49m\u001b[43m[\u001b[49m\u001b[38;5;241;43m4\u001b[39;49m\u001b[43m]\u001b[49m\u001b[38;5;241m=\u001b[39m\u001b[38;5;124m'\u001b[39m\u001b[38;5;124m/\u001b[39m\u001b[38;5;124m'\u001b[39m\n\u001b[0;32m      4\u001b[0m     ele[\u001b[38;5;241m7\u001b[39m]\u001b[38;5;241m=\u001b[39m\u001b[38;5;124m'\u001b[39m\u001b[38;5;124m/\u001b[39m\u001b[38;5;124m'\u001b[39m\n\u001b[0;32m      5\u001b[0m     ele[\u001b[38;5;241m10\u001b[39m]\u001b[38;5;241m=\u001b[39m\u001b[38;5;124m'\u001b[39m\u001b[38;5;124m-\u001b[39m\u001b[38;5;124m'\u001b[39m\n",
      "\u001b[1;31mTypeError\u001b[0m: 'str' object does not support item assignment"
     ]
    }
   ],
   "source": [
    "dts = []\n",
    "for ele in dset.datetime:\n",
    "    ele[4]='/'\n",
    "    ele[7]='/'\n",
    "    ele[10]='-'\n",
    "    dts.append(ele)"
   ]
  },
  {
   "cell_type": "code",
   "execution_count": 34,
   "id": "cd670feb",
   "metadata": {},
   "outputs": [],
   "source": [
    "obj = dset.datetime[0]"
   ]
  },
  {
   "cell_type": "code",
   "execution_count": 35,
   "id": "09ccaf81",
   "metadata": {},
   "outputs": [
    {
     "data": {
      "text/plain": [
       "'2024/03/07-23:45:00'"
      ]
     },
     "execution_count": 35,
     "metadata": {},
     "output_type": "execute_result"
    }
   ],
   "source": [
    "obj = obj.replace('-','/')\n",
    "obj.replace(' ','-')"
   ]
  },
  {
   "cell_type": "code",
   "execution_count": 38,
   "id": "41bc43ae",
   "metadata": {},
   "outputs": [
    {
     "data": {
      "text/plain": [
       "['c:\\\\HUB\\\\DataManagement\\\\Jupyter\\\\testdata\\\\HONO\\\\20240308']"
      ]
     },
     "execution_count": 38,
     "metadata": {},
     "output_type": "execute_result"
    }
   ],
   "source": [
    "dset_dir"
   ]
  },
  {
   "cell_type": "code",
   "execution_count": 51,
   "id": "9227adc0",
   "metadata": {},
   "outputs": [
    {
     "data": {
      "text/plain": [
       "1"
      ]
     },
     "execution_count": 51,
     "metadata": {},
     "output_type": "execute_result"
    }
   ],
   "source": [
    "kk"
   ]
  },
  {
   "cell_type": "code",
   "execution_count": 52,
   "id": "bf4f179e",
   "metadata": {},
   "outputs": [
    {
     "data": {
      "text/plain": [
       "0        20.53\n",
       "1        20.53\n",
       "2        20.53\n",
       "3        20.53\n",
       "4        20.53\n",
       "         ...  \n",
       "2874    20.212\n",
       "2875    20.212\n",
       "2876    20.212\n",
       "2877    20.212\n",
       "2878    20.212\n",
       "Name: temp, Length: 2879, dtype: Float64"
      ]
     },
     "execution_count": 52,
     "metadata": {},
     "output_type": "execute_result"
    }
   ],
   "source": [
    "dset[col]"
   ]
  },
  {
   "cell_type": "code",
   "execution_count": 53,
   "id": "3c40b8fa",
   "metadata": {},
   "outputs": [
    {
     "data": {
      "text/plain": [
       "'temp'"
      ]
     },
     "execution_count": 53,
     "metadata": {},
     "output_type": "execute_result"
    }
   ],
   "source": [
    "col"
   ]
  },
  {
   "cell_type": "code",
   "execution_count": 55,
   "id": "1e5beedf",
   "metadata": {},
   "outputs": [
    {
     "ename": "TypeError",
     "evalue": "Object dtype dtype('O') has no native HDF5 equivalent",
     "output_type": "error",
     "traceback": [
      "\u001b[1;31m---------------------------------------------------------------------------\u001b[0m",
      "\u001b[1;31mTypeError\u001b[0m                                 Traceback (most recent call last)",
      "Cell \u001b[1;32mIn[55], line 1\u001b[0m\n\u001b[1;32m----> 1\u001b[0m dataset \u001b[38;5;241m=\u001b[39m \u001b[43mgrp\u001b[49m\u001b[38;5;241;43m.\u001b[39;49m\u001b[43mcreate_dataset\u001b[49m\u001b[43m(\u001b[49m\u001b[43mcol\u001b[49m\u001b[43m,\u001b[49m\u001b[43m \u001b[49m\u001b[43mdata\u001b[49m\u001b[38;5;241;43m=\u001b[39;49m\u001b[43mdset\u001b[49m\u001b[43m[\u001b[49m\u001b[43mcol\u001b[49m\u001b[43m]\u001b[49m\u001b[43m)\u001b[49m\n",
      "File \u001b[1;32m~\\AppData\\Local\\Programs\\Python\\Python311\\Lib\\site-packages\\h5py\\_hl\\group.py:183\u001b[0m, in \u001b[0;36mGroup.create_dataset\u001b[1;34m(self, name, shape, dtype, data, **kwds)\u001b[0m\n\u001b[0;32m    180\u001b[0m         parent_path, name \u001b[38;5;241m=\u001b[39m name\u001b[38;5;241m.\u001b[39mrsplit(\u001b[38;5;124mb\u001b[39m\u001b[38;5;124m'\u001b[39m\u001b[38;5;124m/\u001b[39m\u001b[38;5;124m'\u001b[39m, \u001b[38;5;241m1\u001b[39m)\n\u001b[0;32m    181\u001b[0m         group \u001b[38;5;241m=\u001b[39m \u001b[38;5;28mself\u001b[39m\u001b[38;5;241m.\u001b[39mrequire_group(parent_path)\n\u001b[1;32m--> 183\u001b[0m dsid \u001b[38;5;241m=\u001b[39m \u001b[43mdataset\u001b[49m\u001b[38;5;241;43m.\u001b[39;49m\u001b[43mmake_new_dset\u001b[49m\u001b[43m(\u001b[49m\u001b[43mgroup\u001b[49m\u001b[43m,\u001b[49m\u001b[43m \u001b[49m\u001b[43mshape\u001b[49m\u001b[43m,\u001b[49m\u001b[43m \u001b[49m\u001b[43mdtype\u001b[49m\u001b[43m,\u001b[49m\u001b[43m \u001b[49m\u001b[43mdata\u001b[49m\u001b[43m,\u001b[49m\u001b[43m \u001b[49m\u001b[43mname\u001b[49m\u001b[43m,\u001b[49m\u001b[43m \u001b[49m\u001b[38;5;241;43m*\u001b[39;49m\u001b[38;5;241;43m*\u001b[39;49m\u001b[43mkwds\u001b[49m\u001b[43m)\u001b[49m\n\u001b[0;32m    184\u001b[0m dset \u001b[38;5;241m=\u001b[39m dataset\u001b[38;5;241m.\u001b[39mDataset(dsid)\n\u001b[0;32m    185\u001b[0m \u001b[38;5;28;01mreturn\u001b[39;00m dset\n",
      "File \u001b[1;32m~\\AppData\\Local\\Programs\\Python\\Python311\\Lib\\site-packages\\h5py\\_hl\\dataset.py:86\u001b[0m, in \u001b[0;36mmake_new_dset\u001b[1;34m(parent, shape, dtype, data, name, chunks, compression, shuffle, fletcher32, maxshape, compression_opts, fillvalue, scaleoffset, track_times, external, track_order, dcpl, dapl, efile_prefix, virtual_prefix, allow_unknown_filter, rdcc_nslots, rdcc_nbytes, rdcc_w0)\u001b[0m\n\u001b[0;32m     84\u001b[0m     \u001b[38;5;28;01melse\u001b[39;00m:\n\u001b[0;32m     85\u001b[0m         dtype \u001b[38;5;241m=\u001b[39m numpy\u001b[38;5;241m.\u001b[39mdtype(dtype)\n\u001b[1;32m---> 86\u001b[0m     tid \u001b[38;5;241m=\u001b[39m \u001b[43mh5t\u001b[49m\u001b[38;5;241;43m.\u001b[39;49m\u001b[43mpy_create\u001b[49m\u001b[43m(\u001b[49m\u001b[43mdtype\u001b[49m\u001b[43m,\u001b[49m\u001b[43m \u001b[49m\u001b[43mlogical\u001b[49m\u001b[38;5;241;43m=\u001b[39;49m\u001b[38;5;241;43m1\u001b[39;49m\u001b[43m)\u001b[49m\n\u001b[0;32m     88\u001b[0m \u001b[38;5;66;03m# Legacy\u001b[39;00m\n\u001b[0;32m     89\u001b[0m \u001b[38;5;28;01mif\u001b[39;00m \u001b[38;5;28many\u001b[39m((compression, shuffle, fletcher32, maxshape, scaleoffset)) \u001b[38;5;129;01mand\u001b[39;00m chunks \u001b[38;5;129;01mis\u001b[39;00m \u001b[38;5;28;01mFalse\u001b[39;00m:\n",
      "File \u001b[1;32mh5py\\\\h5t.pyx:1663\u001b[0m, in \u001b[0;36mh5py.h5t.py_create\u001b[1;34m()\u001b[0m\n",
      "File \u001b[1;32mh5py\\\\h5t.pyx:1687\u001b[0m, in \u001b[0;36mh5py.h5t.py_create\u001b[1;34m()\u001b[0m\n",
      "File \u001b[1;32mh5py\\\\h5t.pyx:1747\u001b[0m, in \u001b[0;36mh5py.h5t.py_create\u001b[1;34m()\u001b[0m\n",
      "\u001b[1;31mTypeError\u001b[0m: Object dtype dtype('O') has no native HDF5 equivalent"
     ]
    }
   ],
   "source": [
    "dataset = grp.create_dataset(col, data=dset[col])"
   ]
  },
  {
   "cell_type": "code",
   "execution_count": null,
   "id": "ded31c30",
   "metadata": {},
   "outputs": [],
   "source": []
  }
 ],
 "metadata": {
  "kernelspec": {
   "display_name": "Python 3 (ipykernel)",
   "language": "python",
   "name": "python3"
  },
  "language_info": {
   "codemirror_mode": {
    "name": "ipython",
    "version": 3
   },
   "file_extension": ".py",
   "mimetype": "text/x-python",
   "name": "python",
   "nbconvert_exporter": "python",
   "pygments_lexer": "ipython3",
   "version": "3.11.2"
  }
 },
 "nbformat": 4,
 "nbformat_minor": 5
}
