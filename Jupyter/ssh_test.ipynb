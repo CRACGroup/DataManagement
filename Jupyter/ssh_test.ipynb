{
 "cells": [
  {
   "cell_type": "code",
   "execution_count": null,
   "id": "73067b78",
   "metadata": {},
   "outputs": [],
   "source": [
    "### This is a test notebook for SSH communication using Fabric"
   ]
  },
  {
   "cell_type": "code",
   "execution_count": null,
   "id": "3dfaaabc",
   "metadata": {},
   "outputs": [],
   "source": [
    "import fabric\n",
    "import matplotlib\n",
    "import glob2\n"
   ]
  }
 ],
 "metadata": {
  "kernelspec": {
   "display_name": "Python 3 (ipykernel)",
   "language": "python",
   "name": "python3"
  },
  "language_info": {
   "codemirror_mode": {
    "name": "ipython",
    "version": 3
   },
   "file_extension": ".py",
   "mimetype": "text/x-python",
   "name": "python",
   "nbconvert_exporter": "python",
   "pygments_lexer": "ipython3",
   "version": "3.9.7"
  }
 },
 "nbformat": 4,
 "nbformat_minor": 5
}
